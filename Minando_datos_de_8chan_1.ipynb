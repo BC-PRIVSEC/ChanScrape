{
 "cells": [
  {
   "cell_type": "markdown",
   "metadata": {},
   "source": [
    "Minando datos de 8ch.net con python\n",
    "====================\n",
    "\n",
    "[![Anaconda-Server Badge](https://anaconda.org/bc-privsec-devel/chanscrape/badges/license.svg)](https://anaconda.org/bc-privsec-devel/chanscrape)\n",
    "\n",
    "La idea detras de esta libreta, es brindar total transparencia al procedimiento que estamos utilizandom de manera que pueda ser auditable por cualquier persona con minimos conocimientos del lenguaje **Python 3** Al proporcionar esta transparencia, estamos asegurando que no hay ninguna clase de modificacion o manipulacion en los datos, excepto en lo que esta publicado en el sitio del que extraeremos la evidencia forense\n",
    "\n",
    "La libreta explicara los pasos que desarrolla el programa, siguiendo el estilo de programacion literaria. El *kernel* configurado es Python 3, y el ambiente de desarrolloes la ultima version disponible del proyecto Jupyter.\n",
    "\n",
    "El codigo fuente, asi como instrucciones para instalar y ejecutar esta libreta por su propia cuenta, estan disponibles en su [repositorio oficial de Github](https://github.com/BC-PRIVSEC/ChanScrape). Los autores y colaboradores en el desarrollo de este software hemos decidido **dedicar este trabajo al Dominio Publico** renunciando a cualquier derecho de autor _en detrimento propio y de nuestros sucesores_; y para beneficio de el publico general. Consulte los [detalles legales en el Repositorio oficial](https://github.com/BC-PRIVSEC/ChanScrape/LICENCIA-ES).\n",
    "\n",
    "Queremos demostrar de esta manera que **no tenemos interes alguno en lucrar** con las victimas, por el contrario el objetivo es proporcionarles herramientas informaticas y conocimiento en mejores practicas para **defender su seguridad, integridad e identidad en Linea.** \n",
    "\n",
    "#### Use esta libreta y la herramienta que representa para los fines legales que a usted convenga.\n",
    "------------"
   ]
  },
  {
   "cell_type": "markdown",
   "metadata": {},
   "source": [
    "###  Configuracion del programa y librerias adicionales\n",
    "\n",
    "En esta seccion, se definen y cargan las librerias adicionales a la librera estandar del lenguaje que se utilizaran en este programa. De particular interes es la libreria (py8chan)[1] que proporciona una interfaz al API de datos del sitio (8chan)[2]. `BeautifulSoup`[3] es una libreria muy comun para la extraccion de datos pues es muy sencilla de usar y provee de poderosas caracteristicas para la manipulacion de **HTML**. En nuestro caso usaremos `re` y `BeautifulSoup` con el fin de identificar direcciones de correo electronico y extraerlas al limpiar el HTML que se encuentre alrededor de las mismas, tal vez ofuscandolas.\n",
    "\n",
    "Todas las librerias requeridas se distribuyen atraves de Anaconda Cloud en el mismo paquete"
   ]
  },
  {
   "cell_type": "code",
   "execution_count": 1,
   "metadata": {
    "collapsed": true
   },
   "outputs": [],
   "source": [
    "import py8chan\n",
    "import re\n",
    "import json\n",
    "\n",
    "from datetime import datetime\n",
    "from bs4 import BeautifulSoup\n",
    "from IPython.core.interactiveshell import InteractiveShell\n",
    "InteractiveShell.ast_node_interactivity = \"all\" # Con esto, la libreta dara formato legible a las varables que\n",
    "                                                # calculemos, haciendo mas sencillo de entender el programa"
   ]
  },
  {
   "cell_type": "markdown",
   "metadata": {},
   "source": [
    "Mas adelante, el procedimiento de extraccion de datos requerira una rutina para de-duplicar los correos electronicos extraidos. La convencion en python es definir las rutinas antes de la seccion principal del programa. Entonces aqui definimos funciones auxiliares:\n"
   ]
  },
  {
   "cell_type": "code",
   "execution_count": 2,
   "metadata": {
    "collapsed": true
   },
   "outputs": [],
   "source": [
    "def alt_unique(input_list):\n",
    "    ''' implementacion eficiente de elementos uniicos usando\n",
    "    conversion intermedia a set() que no permite duplicados. de\n",
    "    esta manera evitamos caminar por cada elemento de la lista en \n",
    "    un bucle convencional'''\n",
    "    output = set(input_list)\n",
    "    return list(output)"
   ]
  },
  {
   "cell_type": "markdown",
   "metadata": {},
   "source": [
    "### Enlace al API e instancias de objetos de datos"
   ]
  },
  {
   "cell_type": "code",
   "execution_count": 3,
   "metadata": {
    "collapsed": true
   },
   "outputs": [],
   "source": [
    "timestamp = datetime.isoformat( datetime.now()) \n",
    "#Hora exacta como sello para identificar la corrida\n",
    "\n",
    "tablero = py8chan.Board('ensenada')        \n",
    "conversaciones = tablero.get_all_threads() "
   ]
  },
  {
   "cell_type": "markdown",
   "metadata": {},
   "source": [
    "Creamos ahora una instancia de `py8chan.board`, Objeto de enlace al API del sitio 8chan. es a traves de sus metodos obtendremos los datos requeridos. Uno de estos metodos, `get_all_threads` produce una lista cuyos miembros representan todas las conversaciones que pertenecen al tablero\n",
    "\n",
    "En este punto, el programa y sus librerias internas han realizado conecciones y consultas al API del servidor del sitio 8chan. como si se tratara de un navegador. Ademas, hemos creado una instancia de datos que representa todo el conjunto de informacion en el tablero identificado al crear la instancia. \n",
    "\n",
    "Esta instancia contiene varios metodos que nos permitiran acceder a los datos de mas bajo nivel. Lo primero que hemos hecho es obtener un arreglo de objetos que contiene en cada elemento una conversacion perteneciente a dicho tablero.\n",
    "\n",
    "Podremos usar esta lista para obtener mensajes individuales de cada conversacion"
   ]
  },
  {
   "cell_type": "code",
   "execution_count": 4,
   "metadata": {
    "collapsed": true
   },
   "outputs": [],
   "source": [
    "emailpattern = re.compile(r'[A-Za-z0-9._%+-]+@[A-Za-z0-9.-]+\\.[A-Za-z]{2,4}')\n",
    "emails = []\n",
    "mensajes = 0"
   ]
  },
  {
   "cell_type": "markdown",
   "metadata": {},
   "source": [
    "Antes de proseguir, hemos definido algunas variables auxiliares. el primer caso se trata de una expresion regular muy popular para extraer direcciones de correo electronico. En resumen, esta expresion dispara una coincidencia cada vez que encuentra un texto que corresponde al formato indicado. \n",
    "\n",
    "En el caso de las ultimas dos variables, su uso es obvio: en la primera almacenaremos una lista de todos los correos que encontremos usando la expresion regular. La segunda es un contador para tener idea de la cantidad de mensajes individuales que hemos procesado "
   ]
  },
  {
   "cell_type": "code",
   "execution_count": 5,
   "metadata": {
    "collapsed": true
   },
   "outputs": [],
   "source": [
    "for conversacion in conversaciones:             # 1\n",
    "    mensajes += len(conversacion.all_posts)     # 2\n",
    "    for msg in conversacion.all_posts:          # 3\n",
    "        em = emailpattern.findall(msg.comment)  # 4\n",
    "        if em:                                  # 5\n",
    "            for m in em:                        # 6\n",
    "                emails.append(m)                # 6\n",
    "                                                # 7\n",
    "\n",
    "unique_emails = alt_unique(emails)              # 8\n",
    "unique_emails.sort()                            # 9\n"
   ]
  },
  {
   "cell_type": "markdown",
   "metadata": {},
   "source": [
    "1. camnaremos por cada conversacon en la lista de conversaciones\n",
    "2. sumamos el numero de mensajes de la lista al total de procesados\n",
    "3. caminaremos por cada mensaje que forma parte de cada conversacion\n",
    "4. examinamos la propiedad 'comment' que contiene el texto de cada mensaje\n",
    "5. si hay una o mas coincidencias con el patron que representa un correo electronico\n",
    "6. entonces caminamos la lista de coincidencias, en caso de que sean 2 o mas\n",
    "7. y agregamos cada elemento al arreglo que definimos anteriormente para almacenar el dato.\n",
    "\n",
    "8. Aqui limpiamos el arreglo al eliminar los correos electronicos duplicados\n",
    "9. y ordenamos alfabeticamente el arreglo de correos unicos.\n",
    "\n",
    "------\n",
    "\n",
    "Ahora podemos imprimr un reporte de las direcciones de correo que fueron minadas del tablero:"
   ]
  },
  {
   "cell_type": "code",
   "execution_count": 6,
   "metadata": {},
   "outputs": [
    {
     "name": "stdout",
     "output_type": "stream",
     "text": [
      "Hemos capturado  375\n",
      "Contienen  3203\n",
      "y se extrajeron  216 emails\n"
     ]
    }
   ],
   "source": [
    "print('Hemos capturado ', len(conversaciones))\n",
    "print('Contienen ', mensajes)\n",
    "print('y se extrajeron ', len(unique_emails), 'emails')"
   ]
  },
  {
   "cell_type": "markdown",
   "metadata": {},
   "source": [
    "Los datos que nos interesan estan en la variable `unique_emails` Para poder utilizarla de manera interoperable asi como legible al ser humano, serializaremos la variable a formato JSON (Notacion de objetos para JavaScript) y podremos grabar el archivo en disco; de manera que podemos mantener un registro historico de los correos elecronicos pertenecientes a las personas que participan en esos foros. "
   ]
  },
  {
   "cell_type": "code",
   "execution_count": 10,
   "metadata": {},
   "outputs": [
    {
     "data": {
      "text/plain": [
       "5701"
      ]
     },
     "execution_count": 10,
     "metadata": {},
     "output_type": "execute_result"
    },
    {
     "name": "stdout",
     "output_type": "stream",
     "text": [
      "Si no hay ningum error,los corrreos se han grabado en el archivo  data/2018-02-08T10:39:46.json\n"
     ]
    }
   ],
   "source": [
    "filename = \"data/\" + timestamp.split(\".\")[0] + \".json\"\n",
    "\n",
    "with open(filename,'w+') as storage:\n",
    "    storage.write(json.dumps(unique_emails))\n",
    "\n",
    "print(\"Si no hay ningum error,los corrreos se han grabado en el archivo \", filename )\n",
    "        "
   ]
  },
  {
   "cell_type": "markdown",
   "metadata": {},
   "source": [
    "Esto es facilmente comprobable:"
   ]
  },
  {
   "cell_type": "code",
   "execution_count": 16,
   "metadata": {},
   "outputs": [
    {
     "name": "stdout",
     "output_type": "stream",
     "text": [
      "\n",
      ">>> Que hay en el directorio data/ ?\n",
      "total 16\n",
      "-rw-rw-r-- 1 hector hector 5701 Feb  8 10:35 2018-02-08T10:35:02.json\n",
      "-rw-rw-r-- 1 hector hector 5701 Feb  8 10:41 2018-02-08T10:39:46.json\n",
      "\n",
      ">>> Que tipo de archivos son?\n",
      "data/2018-02-08T10:35:02.json: ASCII text, with very long lines, with no line terminators\n",
      "data/2018-02-08T10:39:46.json: ASCII text, with very long lines, with no line terminators\n",
      "\n",
      ">>> Cuantas lineas contienen?\n",
      "    0 data/2018-02-08T10:35:02.json\n",
      "    0 data/2018-02-08T10:39:46.json\n",
      "    0 total\n",
      "\n",
      ">>> Pretty print? (requiere jq)\n",
      "[\n",
      "  \"23@mailinator.com\",\n",
      "  \"3rick.garcia20@gmail.com\",\n",
      "  \"Adrianpack95@gmail.com\",\n",
      "  \"Alexhander2002@gmail.com\",\n",
      "  \"Alexriver@1000gmail.com\",\n",
      "  \"All3in@8chan.co\",\n",
      "  \"Anofisjimenez1@gmail.com\",\n",
      "  \"Anofisjimenez1@gmail.con\",\n",
      "  \"Anonpcks.14@gmail.com\",\n",
      "  \"Anwincalavera@gmail.com\",\n",
      "  \"Areejpg@aol.com\",\n",
      "  \"Arsd.0606@gmail.com\",\n",
      "  \"Bmomedina@live.com\",\n",
      "  \"Calamidadroll@gmail.com\",\n",
      "  \"Capedero@gmail.com\",\n",
      "  \"Carlitoscj1212@gmail.com\",\n",
      "  \"Carloscj1212@gmail.com\",\n",
      "  \"Chekobeltran@hotmail.com\",\n",
      "  \"Clubchilaquil@gmail.com\",\n"
     ]
    }
   ],
   "source": [
    "%%bash\n",
    "echo && echo \">>> Que hay en el directorio data/ ?\"\n",
    "ls -l data/\n",
    "echo && echo \">>> Que tipo de archivos son?\"\n",
    "file data/*\n",
    "echo && echo \">>> Cuantas lineas contienen?\"\n",
    "wc -l data/*\n",
    "echo && echo \">>> Pretty print? (requiere jq)\"\n",
    "cat data/** | jq . | head -20\n",
    "\n",
    "#TODO: Implementar un JSON Pretty Printer en python."
   ]
  }
 ],
 "metadata": {
  "kernelspec": {
   "display_name": "Python 3",
   "language": "python",
   "name": "python3"
  },
  "language_info": {
   "codemirror_mode": {
    "name": "ipython",
    "version": 3
   },
   "file_extension": ".py",
   "mimetype": "text/x-python",
   "name": "python",
   "nbconvert_exporter": "python",
   "pygments_lexer": "ipython3",
   "version": "3.6.1"
  }
 },
 "nbformat": 4,
 "nbformat_minor": 2
}

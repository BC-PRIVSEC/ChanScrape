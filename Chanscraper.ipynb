{
 "cells": [
  {
   "cell_type": "markdown",
   "metadata": {},
   "source": [
    "# Channel Scraping and ID verification\n",
    "\n",
    "La idea detras de esta libreta, es brindar total transparencia al procedimiento que estamos utilizandom de manera que pueda ser auditable por cualquier persona con minimos conocimientos del lenguaje Python\n",
    "\n",
    "Al proporcionar esta transparencia, estamos asegurando que no hay ninguna clase de modificacion o manipulacion en los datos, excepto en lo que esta publicado en el sitio del que extraeremos la evidencia forense\n",
    "\n",
    "Use esta libreta para los fines legales que a usted convenga.\n",
    "\n",
    "La libreta explicara los pasos que desarrolla el programa, siguiendo el estilo de programacion literaria. El *kernel* configurado es Python 3, y el ambiente de desarrolloes la ultima version disponible del proyecto Jupyter.\n",
    "\n",
    "El codigo fuente, asi como instrucciones para instalar y ejecutar esta libreta por su propia cuenta, estan disponibles en el repositorio oficial de Github."
   ]
  },
  {
   "cell_type": "markdown",
   "metadata": {},
   "source": [
    "## 1 Configuracion del programa y librerias adicionales\n",
    "En esta seccion, se definen y cargan las librerias adicionales a la librera estandar del lenguaje que se utilizaran en este programa. De particular interes es la libreria py8chan que proporciona una interfaz al API de datos del sitio 8chan \n"
   ]
  },
  {
   "cell_type": "code",
   "execution_count": 1,
   "metadata": {},
   "outputs": [],
   "source": [
    "import py8chan\n",
    "import re\n",
    "\n",
    "from bs4 import BeautifulSoup"
   ]
  },
  {
   "cell_type": "markdown",
   "metadata": {},
   "source": [
    "Definimos funciones auxiliares:\n"
   ]
  },
  {
   "cell_type": "code",
   "execution_count": 2,
   "metadata": {
    "collapsed": true
   },
   "outputs": [],
   "source": [
    "def alt_unique(input_list):\n",
    "    ''' implementacion eficiente de elementos uniicos usando\n",
    "    conversion intermedia a set() que no permite duplicados. de\n",
    "    esta manera evitamos caminar por cada elemento de la lista en \n",
    "    un bucle convencional'''\n",
    "    output = set(input_list)\n",
    "    return list(output)"
   ]
  },
  {
   "cell_type": "markdown",
   "metadata": {},
   "source": [
    "Crearemos ahora las estructuras de datos correspondientes a los *boards* que queremos capturar"
   ]
  },
  {
   "cell_type": "code",
   "execution_count": 3,
   "metadata": {},
   "outputs": [],
   "source": [
    "tablero = py8chan.Board('ensenada')        # creamos una instancia de py8chan.board, Objeto de enlace al API del sitio 8chan. \n",
    "                                           # Atraves de sus metodos obtendremos los datos requeridos\n",
    "\n",
    "conversaciones = tablero.get_all_threads() # Genera un arreglo  donde cada elemento es un objeto\n",
    "                                           # del API que representa una conversacion"
   ]
  },
  {
   "cell_type": "markdown",
   "metadata": {},
   "source": [
    "En este punto, el programa ha realizado un enlace al API del servidor del sitio 8chan. ademas, hemos creado una instancia de datos que representa todo el conjunto de informacion en el tablero identificado al crear la instancia. \n",
    "\n",
    "Esta instancia contiene varios metodos que nos permitiran acceder a los datos de mas bajo nivel. Lo primero que hemos hecho es obtener un arreglo de objetos que contiene en cada elemento una conversacion perteneciente a dicho tablero.\n",
    "\n",
    "Podremos usar esta lista para obtener mensajes individuales de cada conversacion"
   ]
  },
  {
   "cell_type": "code",
   "execution_count": 4,
   "metadata": {
    "collapsed": true
   },
   "outputs": [],
   "source": [
    "emailpattern = re.compile(r'[A-Za-z0-9._%+-]+@[A-Za-z0-9.-]+\\.[A-Za-z]{2,4}')\n",
    "emails = []\n",
    "mensajes = 0"
   ]
  },
  {
   "cell_type": "markdown",
   "metadata": {},
   "source": [
    "Antes de proseguir, hemos definido algunas variables auxiliares. el primer caso se trata de una expresion regular muy popular para extraer direcciones de correo electronico. En resumen, esta expresion dispara una coincidencia cada vez que encuentra un texto que corresponde al formato indicado. \n",
    "\n",
    "En el caso de las ultimas dos variables, su uso es obvio: en la primera almacenaremos una lista de todos los correos que encontremos usando la expresion regular. La segunda es un contador para tener idea de la cantidad de mensajes individuales que hemos procesado "
   ]
  },
  {
   "cell_type": "code",
   "execution_count": 5,
   "metadata": {},
   "outputs": [],
   "source": [
    "for conversacion in conversaciones:             # camnaremos por cada conversacon en la lista de conversaciones\n",
    "    mensajes += len(conversacion.all_posts)     # sumamos el numero de mensajes de la lista al total de procesados\n",
    "    for msg in conversacion.all_posts:          # caminaremos por cada mensaje que forma parte de cada conversacion\n",
    "        em = emailpattern.findall(msg.comment)  # examinamos la propiedad 'comment' que contiene el texto de cada mensaje\n",
    "        if em:                                  # si hay una o mas coincidencias con el patron que representa un correo electronico\n",
    "            for m in em:                        # entonces caminamos la lista de coincidencias, en caso de que sean 2 o mas\n",
    "                emails.append(m)                # y agregamos cada elemento al arreglo que definimos anteriormente \n",
    "                                                # para almacenar el dato.\n",
    "\n",
    "unique_emails = alt_unique(emails)              # Aqui limpiamos el arreglo al eliminar los correos electronicos duplicados\n",
    "unique_emails.sort()                            # y ordenamos alfabeticamente el arreglo de correos unicos."
   ]
  },
  {
   "cell_type": "markdown",
   "metadata": {},
   "source": [
    "Ahora podemos imprimr un reporte de las direcciones de correo que fueron minadas del tablero:"
   ]
  },
  {
   "cell_type": "code",
   "execution_count": 6,
   "metadata": {},
   "outputs": [
    {
     "name": "stdout",
     "output_type": "stream",
     "text": [
      "Hemos capturado  375 conversaciones que contienen  3203  mensajes en total, de los cuales logramos la extraccion de  215  direcciones de correo electronico, mismas que mostramos a continuacion:\n"
     ]
    }
   ],
   "source": [
    "print('Hemos capturado ', len(conversaciones), 'conversaciones que contienen ', mensajes,' mensajes en total, de los cuales \\\n",
    "logramos la extraccion de ', len(unique_emails), ' direcciones de correo electronico, mismas que mostramos a continuacion:')\n",
    "      "
   ]
  },
  {
   "cell_type": "markdown",
   "metadata": {},
   "source": [
    "Finalmente podemos generar la lista de correos que nos interesa:"
   ]
  },
  {
   "cell_type": "code",
   "execution_count": 7,
   "metadata": {},
   "outputs": [
    {
     "data": {
      "text/plain": [
       "['23@mailinator.com',\n",
       " '3rick.garcia20@gmail.com',\n",
       " 'Adrianpack95@gmail.com',\n",
       " 'Alexhander2002@gmail.com',\n",
       " 'Alexriver@1000gmail.com',\n",
       " 'All3in@8chan.co',\n",
       " 'Anofisjimenez1@gmail.com',\n",
       " 'Anofisjimenez1@gmail.con',\n",
       " 'Anonpcks.14@gmail.com',\n",
       " 'Anwincalavera@gmail.com',\n",
       " 'Areejpg@aol.com',\n",
       " 'Arsd.0606@gmail.com',\n",
       " 'Bmomedina@live.com',\n",
       " 'Calamidadroll@gmail.com',\n",
       " 'Capedero@gmail.com',\n",
       " 'Carlitoscj1212@gmail.com',\n",
       " 'Carloscj1212@gmail.com',\n",
       " 'Chekobeltran@hotmail.com',\n",
       " 'Clubchilaquil@gmail.com',\n",
       " 'Cotapaco123456788@outlook.com',\n",
       " 'Culosens@gmail.com',\n",
       " 'Diego.arme09@gmail.com',\n",
       " 'Elbuenchilaquil@gmail.com',\n",
       " 'Eldelospacksbc@gmail.com',\n",
       " 'Elfisgon-01@gmail.com',\n",
       " 'Enfermitostj@outlook.com',\n",
       " 'Ensenadanasty@hotmail.com',\n",
       " 'Ensgirls646@gmail.com',\n",
       " 'Ensgirs646@gmail.com',\n",
       " 'Ferna_skate3@hotmail.com',\n",
       " 'Fulanodetalfaker@gmail.com',\n",
       " 'Gabrielgalindo0507@gmail.com',\n",
       " 'Highallien@gmail.com',\n",
       " 'Ivanglz715@gmail.com',\n",
       " 'Japacksens@gmail.com',\n",
       " 'Jessemay38@hotmail.com',\n",
       " 'Jessyens1@gmail.com',\n",
       " 'Jonbonachonn@hotmail.com',\n",
       " 'Jr8842419@gmail.com',\n",
       " 'Juancontra95@gmail.com',\n",
       " 'Juata1912@gmail.com',\n",
       " 'Laloncortez@gmail.com',\n",
       " 'Laslocaspack@gmail.com',\n",
       " 'Macoter45@gmail.com',\n",
       " 'Malditoflow69@outlook.com',\n",
       " 'Mark_smith80@outlook.com',\n",
       " 'Netitosandoval0@gmail.com',\n",
       " 'Omarlanderos13@outlook.com',\n",
       " 'Pack98ens@gmail.com',\n",
       " 'Palomagimenez_23@outlook.com',\n",
       " 'Pasalaspics@outlook.com',\n",
       " 'Raksnever1@gmail.com',\n",
       " 'Raygunsos69@gmail.com',\n",
       " 'Ricospacksens@gmail.com',\n",
       " 'Rosalin_709@hotmail.com',\n",
       " 'Sharger2@hotmail.com',\n",
       " 'Smuggm39@gmail.com',\n",
       " 'acostafernando877@yahoo.com',\n",
       " 'adrian.clark.76@outlook.com',\n",
       " 'adrianpack95@gmail.com',\n",
       " 'akira01_123@hotmail.com',\n",
       " 'alexriver1000@gmail.com',\n",
       " 'all3in@gmail.com',\n",
       " 'anm1234567@outlook.com',\n",
       " 'anofisjimenez1@gmail.com',\n",
       " 'anonimo.anon.1993@gmail.com',\n",
       " 'anonimo.anon1993@gmail.com',\n",
       " 'anonimo30ens@hotmail.com',\n",
       " 'areejpg@aol.com',\n",
       " 'arsd.0606@gmail.com',\n",
       " 'batillo.loco29@outlook.com',\n",
       " 'blackbloodsnow@gmail.com',\n",
       " 'bmomedina@live.com',\n",
       " 'brandonhigh101@gmail.com',\n",
       " 'brucebatmanwayme@gmail.com',\n",
       " 'caballerango6669@gmail.com',\n",
       " 'calitos_litos@hotmail.com',\n",
       " 'camaneyjuan69@yahoo.com',\n",
       " 'camirojas0205@gmail..co',\n",
       " 'camirojas0205@gmail.com',\n",
       " 'capedero@gmail.com',\n",
       " 'carlitoscj1212@gmail.com',\n",
       " 'carlosrudamenkin@outlook.com',\n",
       " 'ch8ensenada@gmail.com',\n",
       " 'chan8packs@outlook.com',\n",
       " 'cheprutrap@2anom.com',\n",
       " 'chuchoelroto17@outlook.com',\n",
       " 'chuykastroso@hotmail.com',\n",
       " 'collarsanto@hotmail.com',\n",
       " 'correofeikk@hotmail.com',\n",
       " 'correopacks@gmail.com',\n",
       " 'cotapaco123456788@outlook.com',\n",
       " 'coyotecojo1522@gmail.com',\n",
       " 'culosens@gmail.com',\n",
       " 'dh78774@gmail.com',\n",
       " 'djjoakaz@gmai.com',\n",
       " 'djjoakaz@gmail.com',\n",
       " 'don.nadie.a13@gmail.com',\n",
       " 'edcaliente2011@gmail.com',\n",
       " 'elcrackperros@gmail.com',\n",
       " 'elpoetax@gmx.es',\n",
       " 'enric.santos@hotmail.com',\n",
       " 'ensenadagirl1003@hotmail.com',\n",
       " 'ensepacks1932@gmail.com',\n",
       " 'ensfree123@hotmail.com',\n",
       " 'erickfuentesoec@hotmail.com',\n",
       " 'ernestopack@outlook.com',\n",
       " 'esteman6969@gmail.com',\n",
       " 'fem_muletas@hotmail.com',\n",
       " 'fernandofeik90@gmail.com',\n",
       " 'flexfit.exclusive@gmail.com',\n",
       " 'formepacks@gmail.com',\n",
       " 'freakhek@hotmail.es',\n",
       " 'gatoloco1188@gmail.com',\n",
       " 'ged_geded@hotmail.com',\n",
       " 'geraense646@hotmail.com',\n",
       " 'gotze005@gmail.com',\n",
       " 'gusmaga3197@gmail.com',\n",
       " 'hack1354@hotmail.com',\n",
       " 'hernansalcedo483@gmail.com',\n",
       " 'honeyman5757@hotmail.com',\n",
       " 'isaacvelasquez646@gmail.com',\n",
       " 'iskarmiller@gmail.com',\n",
       " 'japacksens@gmail.com',\n",
       " 'javier.ruiz57@outlook.es',\n",
       " 'jerr736st@hotmail.com',\n",
       " 'jessyens1@gmail.com',\n",
       " 'jimenezraul4443@gmail.com',\n",
       " 'john.manson0186@outlook.com',\n",
       " 'johnwic87@gmail.com',\n",
       " 'jorgeernesto78@outlook.es',\n",
       " 'jose471797@gmail.com',\n",
       " 'joselalo9818@gmail.com',\n",
       " 'juata1912@gmail.com',\n",
       " 'k4woks@gmail.com',\n",
       " 'kaos-m10@hotmail.com',\n",
       " 'killgrave18@gmail.com',\n",
       " 'lalomora4522@hotmail.com',\n",
       " 'laloncortez@gmail.com',\n",
       " 'laog1592@gmail.com',\n",
       " 'laslocaspack@gmail.com',\n",
       " 'lavuelta.almundo@outlook.es',\n",
       " 'lazorita7@gmail.com',\n",
       " 'leilenigt@gmail.com',\n",
       " 'letsmakeitgood21@gmail.com',\n",
       " 'lover_victim_@outlook.com',\n",
       " 'magy.gomez2017@gmail.com',\n",
       " 'mario_neymar11@hotmail.com',\n",
       " 'mateolml@hotmail.com',\n",
       " 'micofi123456789@gmail.com',\n",
       " 'moaz_one@hotmail.com',\n",
       " 'morboso-69@hotmail.com',\n",
       " 'mrswing664@gmail.com',\n",
       " 'nano_sbi@hotmail.com',\n",
       " 'nirvana.vg96@gmail.com',\n",
       " 'nirvana.villavicencio@uabc.edu.mx',\n",
       " 'oscarae1112@gmail.com',\n",
       " 'pack98ens@gmail.com',\n",
       " 'packens13@hormail.com',\n",
       " 'packens13@hotmail.com',\n",
       " 'packens2018@gmail.com',\n",
       " 'packricko@gmail.com',\n",
       " 'packs619@hotmail.com',\n",
       " 'packsforpacks@hotmail.com',\n",
       " 'pasalaspics@outlook.com',\n",
       " 'passpacks@gmail.com',\n",
       " 'pedrin_suarez@outlook.es',\n",
       " 'pedropalma1993@hotmail.com',\n",
       " 'pefuentespack@gmail.com',\n",
       " 'pepepecasza@outlook.com',\n",
       " 'perasydurazno@gmail.com',\n",
       " 'pes2390@hotmail.com',\n",
       " 'petramargaglio2@gmail.com',\n",
       " 'phunixer@gmail.com',\n",
       " 'pitterbox@hotmail.com',\n",
       " 'pupuwiwi51@gmail.com',\n",
       " 'raksnever1@gmail.com',\n",
       " 'ramirezg.anon@gmail.com',\n",
       " 'raperos_romanticos@hotmail.com',\n",
       " 'rauina33@gmail.com',\n",
       " 'ray_gxiola@hotmail.com',\n",
       " 'raygunsos69@gmail.com',\n",
       " 'raygunsos@gmail.com',\n",
       " 'recesosamp1@gmail.com',\n",
       " 'reempe@hotmail.es',\n",
       " 'ricardo_ayala160@hotmail.com',\n",
       " 'ricardo_ayala16@hotmail.com',\n",
       " 'ricospacksens@gmail.com',\n",
       " 'rko1602@hotmail.com',\n",
       " 'rko1602@hotmail.con',\n",
       " 'robertsant4321@gmail.com',\n",
       " 'rogeliocasillas1989@gmail.com',\n",
       " 's13@hormail.com',\n",
       " 'sandroaguirre172@gmail.com',\n",
       " 'saulgoodman8790@gmail.com',\n",
       " 'sedundnespls@outlook.com',\n",
       " 'sergiomendesxdxdxd817@hotmail.com',\n",
       " 'shadowisnotsombra@gmail.com',\n",
       " 'simonjm1994@gmail.com',\n",
       " 'simonsimon0404@gmail.com',\n",
       " 'skrt646@gmail.com',\n",
       " 'subsevena@gmail.com',\n",
       " 't0nyneeds2cum@yahoo.com',\n",
       " 'the.yisusisimo@gmail.com',\n",
       " 'thebandsyoushouldknow2@gmail.com',\n",
       " 'thedeadshot1199@gmail.com',\n",
       " 'titansproduction1@hotmail.com',\n",
       " 'turint5654@gmail.com',\n",
       " 'valhalla_77@yahoo.com',\n",
       " 'vicentevalentin36@gmail.com',\n",
       " 'villarreal_98_@hotmail.com',\n",
       " 'werito06969@hotmail.com',\n",
       " 'yafuedos@hotmail.com',\n",
       " 'yandelwe14-02@outlook.com',\n",
       " 'yuyis172491@hotmail.com']"
      ]
     },
     "execution_count": 7,
     "metadata": {},
     "output_type": "execute_result"
    }
   ],
   "source": [
    "list(unique_emails)"
   ]
  }
 ],
 "metadata": {
  "kernelspec": {
   "display_name": "Python 3",
   "language": "python",
   "name": "python3"
  },
  "language_info": {
   "codemirror_mode": {
    "name": "ipython",
    "version": 3
   },
   "file_extension": ".py",
   "mimetype": "text/x-python",
   "name": "python",
   "nbconvert_exporter": "python",
   "pygments_lexer": "ipython3",
   "version": "3.6.1"
  }
 },
 "nbformat": 4,
 "nbformat_minor": 2
}

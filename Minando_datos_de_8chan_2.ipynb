{
 "cells": [
  {
   "cell_type": "markdown",
   "metadata": {
    "slideshow": {
     "slide_type": "slide"
    }
   },
   "source": [
    "Minando datos de 8ch.net con python\n",
    "====================\n",
    "\n",
    "[![Anaconda-Server Badge](https://anaconda.org/bc-privsec-devel/chanscrape/badges/license.svg)](https://anaconda.org/bc-privsec-devel/chanscrape)\n",
    "\n",
    "**Esta es la libreta #2 de 2 en esta serie. **\n",
    "\n",
    "El codigo fuente, asi como instrucciones para instalar y ejecutar esta libreta por su propia cuenta, estan disponibles en su [repositorio oficial de Github](https://github.com/BC-PRIVSEC/ChanScrape). Los autores y colaboradores en el desarrollo de este software hemos decidido **dedicar este trabajo al Dominio Publico** renunciando a cualquier derecho de autor _en detrimento propio y de nuestros sucesores_; y para beneficio de el publico general. Consulte los [detalles legales en el Repositorio oficial](https://github.com/BC-PRIVSEC/ChanScrape/LICENCIA-ES).\n",
    "\n",
    "Queremos demostrar de esta manera que **no tenemos interes alguno en lucrar** con las victimas, por el contrario el objetivo es proporcionarles herramientas informaticas y conocimiento en mejores practicas para **defender su seguridad, integridad e identidad en Linea.** \n",
    "\n",
    "#### Use esta libreta y la herramienta que representa para los fines legales que a usted convenga.\n",
    "------------"
   ]
  },
  {
   "cell_type": "markdown",
   "metadata": {
    "slideshow": {
     "slide_type": "slide"
    }
   },
   "source": [
    "###  Recabando todos los datos que sea posible\n",
    "\n",
    "Ya hemos visto que la libreria `py8chan` y el API de la misma pagina resultan en una poderosa combinacion. En esta entrega, haremos unas sencillas modificaciones al programa que escribimos en la libreta anteror para lograr lo siguiente:\n",
    "\n",
    "- Recabar correos electronicos de todos los mensajes\n",
    "- Adiconalmente recabar todas las estadisticas que nos sea posible del api\n",
    "- Organizar y grabar esta informacion de manera eficiente \n",
    "- Hacer de esta operacion una tarea automatizada y rutinaria de manera que podamos minar la informacion constantemente y sin ser penalizados por el sitio. \n",
    "- Experimentar con los datos para ver que conclusiones respecto a la comunidad monitoreada podemos obtener, asi como sus habitos y de ser posible, perfilar usuarios individuales\n",
    "\n",
    "Definiremos una lista de los sitios que conocemos que operan bajo el mimo esquema, practicamente se les podria considerar una sola comunidad, por varias razones que estan mas alla del alcance tecnico de esta libreta. definiremos entonces la siguiente estructura de datos como la lista maestra de tableros a monitorear:"
   ]
  },
  {
   "cell_type": "code",
   "execution_count": 11,
   "metadata": {
    "collapsed": true,
    "slideshow": {
     "slide_type": "slide"
    }
   },
   "outputs": [],
   "source": [
    "import py8chan #iniciamos el programa conel encabezado importando las librerias que ocuparemos \n",
    "import json\n",
    "import re\n",
    "\n",
    "from datetime import datetime\n",
    "from bs4 import BeautifulSoup\n",
    "\n",
    "from IPython.core.interactiveshell import InteractiveShell\n",
    "InteractiveShell.ast_node_interactivity = \"all\" "
   ]
  },
  {
   "cell_type": "markdown",
   "metadata": {
    "slideshow": {
     "slide_type": "slide"
    }
   },
   "source": [
    "Definimos de una buena vez las funciones auxiliares adicionales, seran las mismas que las utilizadas en la libreta 1\n"
   ]
  },
  {
   "cell_type": "code",
   "execution_count": 12,
   "metadata": {
    "collapsed": true,
    "slideshow": {
     "slide_type": "fragment"
    }
   },
   "outputs": [],
   "source": [
    "def alt_unique(input_list):\n",
    "    ''' implementacion eficiente de elementos uniicos usando\n",
    "    conversion intermedia a set() que no permite duplicados. de\n",
    "    esta manera evitamos caminar por cada elemento de la lista en \n",
    "    un bucle convencional'''\n",
    "    output = set(input_list)\n",
    "    return list(output)"
   ]
  },
  {
   "cell_type": "markdown",
   "metadata": {
    "slideshow": {
     "slide_type": "slide"
    }
   },
   "source": [
    "Definiremos Nuestro inventario de datos maestro como una listas nativa de _Phyton_ para aprovechar las caracteristicas y prestaciones que el lenguaje define para los objetos de este tipo.\n",
    "\n",
    "En particular es util que se comportan como _Generadores_ e _Iteradores_ lo que nos ahorrara muchas lineas de codigo. Cada uno de los elementos de esta lista sern los nombres de los tableros de interes en dicho sitio. \n"
   ]
  },
  {
   "cell_type": "code",
   "execution_count": 13,
   "metadata": {
    "collapsed": true,
    "slideshow": {
     "slide_type": "fragment"
    }
   },
   "outputs": [],
   "source": [
    "Inventario_Maestro =['ensenada', 'tijuana', 'mexicali', \n",
    "                     'mexicaligirls', 'mexicalilocal', \n",
    "                     'mexicali2', 'drive646']\n",
    "\n",
    "timestamp = datetime.isoformat( datetime.now()) #Hora exacta como sello para identificar la corrida\n",
    "patron_email = re.compile(r'[A-Za-z0-9._%+-]+@[A-Za-z0-9.-]+\\.[A-Za-z]{2,4}')\n",
    "emails = []\n",
    "mensajes = 0\n",
    "total_conversaciones=0\n",
    "total_mensajes = 0\n"
   ]
  },
  {
   "cell_type": "markdown",
   "metadata": {
    "slideshow": {
     "slide_type": "slide"
    }
   },
   "source": [
    "### Enlace al API e instancias de objetos de datos\n",
    "\n",
    "Aplicaremos la propiedad generadora de la lista:"
   ]
  },
  {
   "cell_type": "code",
   "execution_count": 14,
   "metadata": {
    "scrolled": true,
    "slideshow": {
     "slide_type": "fragment"
    }
   },
   "outputs": [
    {
     "name": "stdout",
     "output_type": "stream",
     "text": [
      "Procesando el tablero ensenada ...\n",
      "Hay  375 conversaciones en ensenada\n",
      "Hay  3174 mensajes en total para el tablero ensenada\n",
      " \n",
      "Procesando el tablero tijuana ...\n",
      "Hay  375 conversaciones en tijuana\n",
      "Hay  2170 mensajes en total para el tablero tijuana\n",
      " \n",
      "Procesando el tablero mexicali ...\n",
      "Hay  375 conversaciones en mexicali\n",
      "Hay  2472 mensajes en total para el tablero mexicali\n",
      " \n",
      "Procesando el tablero mexicaligirls ...\n",
      "Hay  375 conversaciones en mexicaligirls\n",
      "Hay  3953 mensajes en total para el tablero mexicaligirls\n",
      " \n",
      "Procesando el tablero mexicalilocal ...\n",
      "Hay  124 conversaciones en mexicalilocal\n",
      "Hay  416 mensajes en total para el tablero mexicalilocal\n",
      " \n",
      "Procesando el tablero mexicali2 ...\n",
      "Hay  83 conversaciones en mexicali2\n",
      "Hay  664 mensajes en total para el tablero mexicali2\n",
      " \n",
      "Procesando el tablero drive646 ...\n",
      "Hay  6 conversaciones en drive646\n",
      "Hay  50 mensajes en total para el tablero drive646\n",
      " \n"
     ]
    }
   ],
   "source": [
    "for nombre_de_tablero in Inventario_Maestro:\n",
    "    tablero = py8chan.Board(nombre_de_tablero) \n",
    "    conversaciones = tablero.get_all_threads() \n",
    "    total_conversaciones += len(conversaciones)\n",
    "\n",
    "    print('Procesando el tablero', nombre_de_tablero, '...')\n",
    "    print('Hay ',len(conversaciones), 'conversaciones en', nombre_de_tablero)\n",
    "\n",
    "    mensajes_del_tablero = 0\n",
    "\n",
    "    for conversacion in conversaciones:\n",
    "        mensajes += len(conversacion.all_posts)     \n",
    "        mensajes_del_tablero += len(conversacion.all_posts)\n",
    "        for msg in conversacion.all_posts:          \n",
    "            em = patron_email.findall(msg.comment)  \n",
    "            if em:                                  \n",
    "                for m in em:                        \n",
    "                    emails.append(m)\n",
    "                    \n",
    "    print('Hay ', mensajes_del_tablero, 'mensajes en total para el tablero', nombre_de_tablero)\n",
    "    print(' ')\n",
    "                    \n",
    "unique_emails = alt_unique(emails)              \n",
    "unique_emails.sort()                \n"
   ]
  },
  {
   "cell_type": "code",
   "execution_count": 15,
   "metadata": {
    "slideshow": {
     "slide_type": "slide"
    }
   },
   "outputs": [
    {
     "name": "stdout",
     "output_type": "stream",
     "text": [
      "Se han procesado 7 tableros\n",
      "Hemos capturado  1713 conversaciones\n",
      "Contienen  12899 mensajes en total\n",
      "Se extrajeron  956 emails unicos de 1759 instancias\n",
      "eso es cada 7.33 mensajes alguien pide envios y proporciona su direccion\n"
     ]
    }
   ],
   "source": [
    "print('Se han procesado', len(Inventario_Maestro) , 'tableros')\n",
    "print('Hemos capturado ', total_conversaciones, 'conversaciones')\n",
    "print('Contienen ', mensajes, 'mensajes en total')\n",
    "print('Se extrajeron ', len(unique_emails), 'emails unicos de', len(emails), 'instancias')\n",
    "print('eso es cada', round(mensajes/len(emails),2), 'mensajes alguien pide envios y proporciona su direccion')"
   ]
  },
  {
   "cell_type": "code",
   "execution_count": 17,
   "metadata": {
    "slideshow": {
     "slide_type": "slide"
    }
   },
   "outputs": [
    {
     "data": {
      "text/plain": [
       "25396"
      ]
     },
     "execution_count": 17,
     "metadata": {},
     "output_type": "execute_result"
    },
    {
     "name": "stdout",
     "output_type": "stream",
     "text": [
      "Si no hay ningun error,los corrreos se han grabado en el archivo  data/solo-email-todos-los-boards/2018-02-08T22:42:29.json\n"
     ]
    }
   ],
   "source": [
    "\n",
    "filename = \"data/solo-email-todos-los-boards/\" + timestamp.split(\".\")[0] + \".json\"\n",
    "\n",
    "with open(filename,'w+') as storage:\n",
    "    storage.write(json.dumps(unique_emails))\n",
    "\n",
    "print(\"Si no hay ningun error,los corrreos se han grabado en el archivo \", filename )\n",
    "        "
   ]
  },
  {
   "cell_type": "code",
   "execution_count": 33,
   "metadata": {
    "slideshow": {
     "slide_type": "slide"
    }
   },
   "outputs": [
    {
     "name": "stdout",
     "output_type": "stream",
     "text": [
      "data:\n",
      "total 4\n",
      "drwxrwxrwx 2 nobody nogroup 4096 Feb  8 23:28 solo-email-todos-los-boards\n",
      "\n",
      "data/solo-email-todos-los-boards:\n",
      "total 84\n",
      "-rw-rw-rw- 1 nobody nogroup 25372 Feb  8 16:56 2018-02-08T16:34:47.json\n",
      "-rw-rw-rw- 1 nobody nogroup 25372 Feb  8 20:23 2018-02-08T19:09:59.json\n",
      "-rw-rw-rw- 1 nobody nogroup 25396 Feb  8 22:45 2018-02-08T22:42:29.json\n"
     ]
    }
   ],
   "source": [
    "%%bash\n",
    "ls -lR data\n"
   ]
  }
 ],
 "metadata": {
  "kernelspec": {
   "display_name": "Python 3",
   "language": "python",
   "name": "python3"
  },
  "language_info": {
   "codemirror_mode": {
    "name": "ipython",
    "version": 3
   },
   "file_extension": ".py",
   "mimetype": "text/x-python",
   "name": "python",
   "nbconvert_exporter": "python",
   "pygments_lexer": "ipython3",
   "version": "3.6.1"
  }
 },
 "nbformat": 4,
 "nbformat_minor": 2
}
